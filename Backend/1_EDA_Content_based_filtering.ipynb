{
 "cells": [
  {
   "cell_type": "code",
   "execution_count": 1,
   "id": "d12a0449",
   "metadata": {},
   "outputs": [],
   "source": [
    "import pandas as pd\n",
    "import numpy as np\n",
    "import matplotlib.pyplot as plt\n",
    "import seaborn as sns\n",
    "\n",
    "from sklearn.metrics.pairwise import cosine_similarity\n",
    "from sklearn.feature_extraction.text import TfidfVectorizer\n",
    "\n",
    "import os\n",
    "from scipy.sparse import coo_matrix\n"
   ]
  },
  {
   "cell_type": "code",
   "execution_count": 2,
   "id": "784f5076",
   "metadata": {},
   "outputs": [
    {
     "data": {
      "text/plain": [
       "Index(['Uniq Id', 'Crawl Timestamp', 'Dataset Origin', 'Product Id',\n",
       "       'Product Barcode', 'Product Company Type Source',\n",
       "       'Product Brand Source', 'Product Brand Normalised Source',\n",
       "       'Product Name Source', 'Match Rank', 'Match Score', 'Match Type',\n",
       "       'Retailer', 'Product Category', 'Product Brand', 'Product Name',\n",
       "       'Product Price', 'Sku', 'Upc', 'Product Url', 'Market',\n",
       "       'Product Description', 'Product Currency',\n",
       "       'Product Available Inventory', 'Product Image Url',\n",
       "       'Product Model Number', 'Product Tags', 'Product Contents',\n",
       "       'Product Rating', 'Product Reviews Count', 'Bsr', 'Joining Key'],\n",
       "      dtype='object')"
      ]
     },
     "execution_count": 2,
     "metadata": {},
     "output_type": "execute_result"
    }
   ],
   "source": [
    "# Read your dataset (replace 'marketing_sample_for_walmart_com-walmart_com_product_review__20200701_20201231__5k_data.tsv' with your dataset path)\n",
    "data = pd.read_csv(r'C:\\Users\\VAGDEVI\\Downloads\\marketing_sample_for_walmart_com-walmart_com_product_review__20200701_20201231__5k_data (2).tsv', sep='\\t')\n",
    "data.columns"
   ]
  },
  {
   "cell_type": "code",
   "execution_count": 3,
   "id": "b33ca208",
   "metadata": {},
   "outputs": [
    {
     "data": {
      "text/html": [
       "<div>\n",
       "<style scoped>\n",
       "    .dataframe tbody tr th:only-of-type {\n",
       "        vertical-align: middle;\n",
       "    }\n",
       "\n",
       "    .dataframe tbody tr th {\n",
       "        vertical-align: top;\n",
       "    }\n",
       "\n",
       "    .dataframe thead th {\n",
       "        text-align: right;\n",
       "    }\n",
       "</style>\n",
       "<table border=\"1\" class=\"dataframe\">\n",
       "  <thead>\n",
       "    <tr style=\"text-align: right;\">\n",
       "      <th></th>\n",
       "      <th>Uniq Id</th>\n",
       "      <th>Product Id</th>\n",
       "      <th>Product Rating</th>\n",
       "      <th>Product Reviews Count</th>\n",
       "      <th>Product Category</th>\n",
       "      <th>Product Brand</th>\n",
       "      <th>Product Name</th>\n",
       "      <th>Product Image Url</th>\n",
       "      <th>Product Description</th>\n",
       "      <th>Product Tags</th>\n",
       "    </tr>\n",
       "  </thead>\n",
       "  <tbody>\n",
       "    <tr>\n",
       "      <th>0</th>\n",
       "      <td>1705736792d82aa2f2d3caf1c07c53f4</td>\n",
       "      <td>2e17bf4acecdece67fc00f07ad62c910</td>\n",
       "      <td>NaN</td>\n",
       "      <td>NaN</td>\n",
       "      <td>Premium Beauty &gt; Premium Makeup &gt; Premium Nail...</td>\n",
       "      <td>OPI</td>\n",
       "      <td>OPI Infinite Shine, Nail Lacquer Nail Polish, ...</td>\n",
       "      <td>https://i5.walmartimages.com/asr/0e1f4c51-c1a4...</td>\n",
       "      <td>NaN</td>\n",
       "      <td>OPI Infinite Shine, Nail Lacquer Nail Polish, ...</td>\n",
       "    </tr>\n",
       "    <tr>\n",
       "      <th>1</th>\n",
       "      <td>95a9fe6f4810fcfc7ff244fd06784f11</td>\n",
       "      <td>076e5854a62dd283c253d6bae415af1f</td>\n",
       "      <td>NaN</td>\n",
       "      <td>NaN</td>\n",
       "      <td>Beauty &gt; Hair Care &gt; Hair Color &gt; Auburn Hair ...</td>\n",
       "      <td>Nice'n Easy</td>\n",
       "      <td>Nice n Easy Permanent Color, 111 Natural Mediu...</td>\n",
       "      <td>https://i5.walmartimages.com/asr/9c8e42e4-13a5...</td>\n",
       "      <td>Pack of 3 Pack of 3 for the UPC: 381519000201 ...</td>\n",
       "      <td>Nice 'n Easy Permanent Color, 111 Natural Medi...</td>\n",
       "    </tr>\n",
       "    <tr>\n",
       "      <th>2</th>\n",
       "      <td>8d4d0330178d3ed181b15a4102b287f2</td>\n",
       "      <td>8a4fe5d9c7a6ed26cc44d785a454b124</td>\n",
       "      <td>4.5</td>\n",
       "      <td>29221.0</td>\n",
       "      <td>Beauty &gt; Hair Care &gt; Hair Color &gt; Permanent Ha...</td>\n",
       "      <td>Clairol</td>\n",
       "      <td>Clairol Nice N Easy Permanent Color 7/106A Nat...</td>\n",
       "      <td>https://i5.walmartimages.com/asr/e3a601c2-6a2b...</td>\n",
       "      <td>This Clairol Nice N Easy Permanent Color gives...</td>\n",
       "      <td>Clairol Nice 'N Easy Permanent Color 7/106A Na...</td>\n",
       "    </tr>\n",
       "    <tr>\n",
       "      <th>3</th>\n",
       "      <td>fddc4df45b35efd886794b261f730c51</td>\n",
       "      <td>03b5fb878a33eadff8b033419eab9669</td>\n",
       "      <td>NaN</td>\n",
       "      <td>NaN</td>\n",
       "      <td>Beauty &gt; Makeup &gt; Lip</td>\n",
       "      <td>Kokie Cosmetics</td>\n",
       "      <td>Kokie Professional Matte Lipstick, Hot Berry, ...</td>\n",
       "      <td>https://i5.walmartimages.com/asr/25b4b467-bc61...</td>\n",
       "      <td>Calling all matte lip lovers! Indulge in our r...</td>\n",
       "      <td>Kokie Professional Matte Lipstick, Hot Berry, ...</td>\n",
       "    </tr>\n",
       "    <tr>\n",
       "      <th>4</th>\n",
       "      <td>0990cf89a59ca6a0460349a3e4f51d42</td>\n",
       "      <td>ce3d761e57d6ccad80619297b5b1bcbc</td>\n",
       "      <td>NaN</td>\n",
       "      <td>131.0</td>\n",
       "      <td>Seasonal &gt; Stock Up Essentials &gt; Personal Care...</td>\n",
       "      <td>Gillette</td>\n",
       "      <td>Gillette TRAC II Plus Razor Blade Refills, Fit...</td>\n",
       "      <td>https://i5.walmartimages.com/asr/1a2ebb06-cd01...</td>\n",
       "      <td>In 1971, Gillette introduced the Trac II razor...</td>\n",
       "      <td>Gillette TRAC II Plus Razor Blade Refills, Fit...</td>\n",
       "    </tr>\n",
       "  </tbody>\n",
       "</table>\n",
       "</div>"
      ],
      "text/plain": [
       "                            Uniq Id                        Product Id  \\\n",
       "0  1705736792d82aa2f2d3caf1c07c53f4  2e17bf4acecdece67fc00f07ad62c910   \n",
       "1  95a9fe6f4810fcfc7ff244fd06784f11  076e5854a62dd283c253d6bae415af1f   \n",
       "2  8d4d0330178d3ed181b15a4102b287f2  8a4fe5d9c7a6ed26cc44d785a454b124   \n",
       "3  fddc4df45b35efd886794b261f730c51  03b5fb878a33eadff8b033419eab9669   \n",
       "4  0990cf89a59ca6a0460349a3e4f51d42  ce3d761e57d6ccad80619297b5b1bcbc   \n",
       "\n",
       "   Product Rating  Product Reviews Count  \\\n",
       "0             NaN                    NaN   \n",
       "1             NaN                    NaN   \n",
       "2             4.5                29221.0   \n",
       "3             NaN                    NaN   \n",
       "4             NaN                  131.0   \n",
       "\n",
       "                                    Product Category    Product Brand  \\\n",
       "0  Premium Beauty > Premium Makeup > Premium Nail...              OPI   \n",
       "1  Beauty > Hair Care > Hair Color > Auburn Hair ...      Nice'n Easy   \n",
       "2  Beauty > Hair Care > Hair Color > Permanent Ha...          Clairol   \n",
       "3                              Beauty > Makeup > Lip  Kokie Cosmetics   \n",
       "4  Seasonal > Stock Up Essentials > Personal Care...         Gillette   \n",
       "\n",
       "                                        Product Name  \\\n",
       "0  OPI Infinite Shine, Nail Lacquer Nail Polish, ...   \n",
       "1  Nice n Easy Permanent Color, 111 Natural Mediu...   \n",
       "2  Clairol Nice N Easy Permanent Color 7/106A Nat...   \n",
       "3  Kokie Professional Matte Lipstick, Hot Berry, ...   \n",
       "4  Gillette TRAC II Plus Razor Blade Refills, Fit...   \n",
       "\n",
       "                                   Product Image Url  \\\n",
       "0  https://i5.walmartimages.com/asr/0e1f4c51-c1a4...   \n",
       "1  https://i5.walmartimages.com/asr/9c8e42e4-13a5...   \n",
       "2  https://i5.walmartimages.com/asr/e3a601c2-6a2b...   \n",
       "3  https://i5.walmartimages.com/asr/25b4b467-bc61...   \n",
       "4  https://i5.walmartimages.com/asr/1a2ebb06-cd01...   \n",
       "\n",
       "                                 Product Description  \\\n",
       "0                                                NaN   \n",
       "1  Pack of 3 Pack of 3 for the UPC: 381519000201 ...   \n",
       "2  This Clairol Nice N Easy Permanent Color gives...   \n",
       "3  Calling all matte lip lovers! Indulge in our r...   \n",
       "4  In 1971, Gillette introduced the Trac II razor...   \n",
       "\n",
       "                                        Product Tags  \n",
       "0  OPI Infinite Shine, Nail Lacquer Nail Polish, ...  \n",
       "1  Nice 'n Easy Permanent Color, 111 Natural Medi...  \n",
       "2  Clairol Nice 'N Easy Permanent Color 7/106A Na...  \n",
       "3  Kokie Professional Matte Lipstick, Hot Berry, ...  \n",
       "4  Gillette TRAC II Plus Razor Blade Refills, Fit...  "
      ]
     },
     "execution_count": 3,
     "metadata": {},
     "output_type": "execute_result"
    }
   ],
   "source": [
    "data = data[['Uniq Id','Product Id', 'Product Rating', 'Product Reviews Count', 'Product Category', 'Product Brand', 'Product Name', 'Product Image Url', 'Product Description', 'Product Tags']]\n",
    "data.head()"
   ]
  },
  {
   "cell_type": "code",
   "execution_count": 4,
   "id": "009f77fc",
   "metadata": {},
   "outputs": [
    {
     "data": {
      "text/plain": [
       "0       OPI Infinite Shine, Nail Lacquer Nail Polish, ...\n",
       "1       Nice 'n Easy Permanent Color, 111 Natural Medi...\n",
       "2       Clairol Nice 'N Easy Permanent Color 7/106A Na...\n",
       "3       Kokie Professional Matte Lipstick, Hot Berry, ...\n",
       "4       Gillette TRAC II Plus Razor Blade Refills, Fit...\n",
       "                              ...                        \n",
       "4995    Garden Mint Room Spray (Double Strength), 4 ou...\n",
       "4996    Garnier Nutrisse Nourishing Hair Color Creme (...\n",
       "4997    Nail File Electric Drill, 6 in 1 Professional ...\n",
       "4998    Creed Love In Black Hair And Body Wash 6.8oz/2...\n",
       "4999                    Foundation, Wal-mart, Walmart.com\n",
       "Name: Product Tags, Length: 5000, dtype: object"
      ]
     },
     "execution_count": 4,
     "metadata": {},
     "output_type": "execute_result"
    }
   ],
   "source": [
    "\n",
    "data['Product Tags']"
   ]
  },
  {
   "cell_type": "code",
   "execution_count": 5,
   "id": "7ac500a7",
   "metadata": {},
   "outputs": [
    {
     "data": {
      "text/plain": [
       "(5000, 10)"
      ]
     },
     "execution_count": 5,
     "metadata": {},
     "output_type": "execute_result"
    }
   ],
   "source": [
    "\n",
    "data.shape"
   ]
  },
  {
   "cell_type": "code",
   "execution_count": 6,
   "id": "b9352113",
   "metadata": {},
   "outputs": [
    {
     "data": {
      "text/plain": [
       "Uniq Id                     0\n",
       "Product Id                  0\n",
       "Product Rating           2806\n",
       "Product Reviews Count    1654\n",
       "Product Category           10\n",
       "Product Brand              13\n",
       "Product Name                0\n",
       "Product Image Url           0\n",
       "Product Description      1127\n",
       "Product Tags                0\n",
       "dtype: int64"
      ]
     },
     "execution_count": 6,
     "metadata": {},
     "output_type": "execute_result"
    }
   ],
   "source": [
    "data.isnull().sum()"
   ]
  },
  {
   "cell_type": "code",
   "execution_count": 7,
   "id": "47a2987a",
   "metadata": {},
   "outputs": [],
   "source": [
    "# Fill missing values in 'Product Rating' with a default value (e.g., 0)\n",
    "data['Product Rating'].fillna(0, inplace=True)\n",
    "# Fill missing values in 'Product Reviews Count' with a default value (e.g., 0)\n",
    "data['Product Reviews Count'].fillna(0, inplace=True)\n",
    "# Fill missing values in 'Product Category' with a default value (e.g., 'Unknown')\n",
    "data['Product Category'].fillna('', inplace=True)\n",
    "# Fill missing values in 'Product Brand' with a default value (e.g., 'Unknown')\n",
    "data['Product Brand'].fillna('', inplace=True)\n",
    "# Fill missing values in 'Product Description' with an empty string\n",
    "data['Product Description'].fillna('', inplace=True)"
   ]
  },
  {
   "cell_type": "code",
   "execution_count": 8,
   "id": "4e482472",
   "metadata": {},
   "outputs": [
    {
     "data": {
      "text/plain": [
       "Uniq Id                  0\n",
       "Product Id               0\n",
       "Product Rating           0\n",
       "Product Reviews Count    0\n",
       "Product Category         0\n",
       "Product Brand            0\n",
       "Product Name             0\n",
       "Product Image Url        0\n",
       "Product Description      0\n",
       "Product Tags             0\n",
       "dtype: int64"
      ]
     },
     "execution_count": 8,
     "metadata": {},
     "output_type": "execute_result"
    }
   ],
   "source": [
    "data.isnull().sum()"
   ]
  },
  {
   "cell_type": "code",
   "execution_count": 9,
   "id": "a413b2d0",
   "metadata": {},
   "outputs": [
    {
     "data": {
      "text/plain": [
       "0"
      ]
     },
     "execution_count": 9,
     "metadata": {},
     "output_type": "execute_result"
    }
   ],
   "source": [
    "\n",
    "data.duplicated().sum()"
   ]
  },
  {
   "cell_type": "code",
   "execution_count": 10,
   "id": "039a6e41",
   "metadata": {},
   "outputs": [],
   "source": [
    "# make columns shorter\n",
    "# Define the mapping of current column names to shorter names\n",
    "column_name_mapping = {\n",
    "    'Uniq Id': 'ID',\n",
    "    'Product Id': 'ProdID',\n",
    "    'Product Rating': 'Rating',\n",
    "    'Product Reviews Count': 'ReviewCount',\n",
    "    'Product Category': 'Category',\n",
    "    'Product Brand': 'Brand',\n",
    "    'Product Name': 'Name',\n",
    "    'Product Image Url': 'ImageURL',\n",
    "    'Product Description': 'Description',\n",
    "    'Product Tags': 'Tags',\n",
    "    'Product Contents': 'Contents'\n",
    "}\n",
    "# Rename the columns using the mapping\n",
    "data.rename(columns=column_name_mapping, inplace=True)"
   ]
  },
  {
   "cell_type": "code",
   "execution_count": null,
   "id": "75267111",
   "metadata": {},
   "outputs": [],
   "source": []
  },
  {
   "cell_type": "code",
   "execution_count": 11,
   "id": "89734e42",
   "metadata": {},
   "outputs": [
    {
     "name": "stdout",
     "output_type": "stream",
     "text": [
      "Number of unique users: 5000\n",
      "Number of unique items: 4802\n",
      "Number of unique ratings: 36\n"
     ]
    }
   ],
   "source": [
    "# Basic statistics\n",
    "num_users = data['ID'].nunique()\n",
    "num_items = data['ProdID'].nunique()\n",
    "num_ratings = data['Rating'].nunique()\n",
    "print(f\"Number of unique users: {num_users}\")\n",
    "print(f\"Number of unique items: {num_items}\")\n",
    "print(f\"Number of unique ratings: {num_ratings}\")"
   ]
  },
  {
   "cell_type": "code",
   "execution_count": null,
   "id": "b33ec7f5",
   "metadata": {},
   "outputs": [],
   "source": []
  },
  {
   "cell_type": "code",
   "execution_count": 12,
   "id": "a4254d93",
   "metadata": {},
   "outputs": [
    {
     "data": {
      "image/png": "[encoded data removed]",
      "text/plain": [
       "<Figure size 1200x500 with 2 Axes>"
      ]
     },
     "metadata": {},
     "output_type": "display_data"
    }
   ],
   "source": [
    "# Distribution of interactions\n",
    "plt.figure(figsize=(12, 5))\n",
    "plt.subplot(1, 2, 1)\n",
    "data['ID'].value_counts().hist(bins=10, edgecolor='k')\n",
    "plt.xlabel('Interactions per User')\n",
    "plt.ylabel('Number of Users')\n",
    "plt.title('Distribution of Interactions per User')\n",
    "\n",
    "plt.subplot(1, 2, 2)\n",
    "data['ProdID'].value_counts().hist(bins=10, edgecolor='k',color='green')\n",
    "plt.xlabel('Interactions per Item')\n",
    "plt.ylabel('Number of Items')\n",
    "plt.title('Distribution of Interactions per Item')\n",
    "\n",
    "plt.tight_layout()\n",
    "plt.show()"
   ]
  },
  {
   "cell_type": "code",
   "execution_count": 13,
   "id": "4dd76610",
   "metadata": {},
   "outputs": [
    {
     "data": {
      "text/plain": [
       "Text(0.5, 1.0, 'Most Popular items')"
      ]
     },
     "execution_count": 13,
     "metadata": {},
     "output_type": "execute_result"
    },
    {
     "data": {
      "image/png": "[encoded data removed]",
      "text/plain": [
       "<Figure size 640x480 with 1 Axes>"
      ]
     },
     "metadata": {},
     "output_type": "display_data"
    }
   ],
   "source": [
    "# Most popular items\n",
    "popular_items = data['ProdID'].value_counts().head(5)\n",
    "popular_items.plot(kind='bar',color='green')\n",
    "plt.title(\"Most Popular items\")"
   ]
  },
  {
   "cell_type": "code",
   "execution_count": 14,
   "id": "5a05d774",
   "metadata": {},
   "outputs": [
    {
     "data": {
      "text/plain": [
       "<Axes: xlabel='Rating'>"
      ]
     },
     "execution_count": 14,
     "metadata": {},
     "output_type": "execute_result"
    },
    {
     "data": {
      "image/png": "[encoded data removed]",
      "text/plain": [
       "<Figure size 640x480 with 1 Axes>"
      ]
     },
     "metadata": {},
     "output_type": "display_data"
    }
   ],
   "source": [
    "# most rated counts\n",
    "data['Rating'].value_counts().plot(kind='bar',color='blue')"
   ]
  },
  {
   "cell_type": "code",
   "execution_count": 15,
   "id": "c705ac48",
   "metadata": {},
   "outputs": [],
   "source": [
    "import spacy\n",
    "from spacy.lang.en.stop_words import STOP_WORDS\n",
    "\n",
    "nlp = spacy.load(\"en_core_web_sm\")\n",
    "\n",
    "def clean_and_extract_tags(text):\n",
    "    doc = nlp(text.lower())\n",
    "    tags = [token.text for token in doc if token.text.isalnum() and token.text not in STOP_WORDS]\n",
    "    return ', '.join(tags)\n",
    "\n",
    "columns_to_extract_tags_from = ['Category', 'Brand', 'Description']\n",
    "\n",
    "for column in columns_to_extract_tags_from:\n",
    "    data[column] = data[column].apply(clean_and_extract_tags)"
   ]
  },
  {
   "cell_type": "code",
   "execution_count": 16,
   "id": "fb6ae7fe",
   "metadata": {},
   "outputs": [],
   "source": [
    "# Concatenate the cleaned tags from all relevant columns\n",
    "data['Tags'] = data[columns_to_extract_tags_from].apply(lambda row: ', '.join(row), axis=1)"
   ]
  },
  {
   "cell_type": "code",
   "execution_count": 17,
   "id": "6329abe1",
   "metadata": {},
   "outputs": [
    {
     "data": {
      "text/html": [
       "<div>\n",
       "<style scoped>\n",
       "    .dataframe tbody tr th:only-of-type {\n",
       "        vertical-align: middle;\n",
       "    }\n",
       "\n",
       "    .dataframe tbody tr th {\n",
       "        vertical-align: top;\n",
       "    }\n",
       "\n",
       "    .dataframe thead th {\n",
       "        text-align: right;\n",
       "    }\n",
       "</style>\n",
       "<table border=\"1\" class=\"dataframe\">\n",
       "  <thead>\n",
       "    <tr style=\"text-align: right;\">\n",
       "      <th></th>\n",
       "      <th>ID</th>\n",
       "      <th>ProdID</th>\n",
       "      <th>Rating</th>\n",
       "      <th>ReviewCount</th>\n",
       "      <th>Category</th>\n",
       "      <th>Brand</th>\n",
       "      <th>Name</th>\n",
       "      <th>ImageURL</th>\n",
       "      <th>Description</th>\n",
       "      <th>Tags</th>\n",
       "    </tr>\n",
       "  </thead>\n",
       "  <tbody>\n",
       "    <tr>\n",
       "      <th>0</th>\n",
       "      <td>1705736792d82aa2f2d3caf1c07c53f4</td>\n",
       "      <td>2e17bf4acecdece67fc00f07ad62c910</td>\n",
       "      <td>0.0</td>\n",
       "      <td>0.0</td>\n",
       "      <td>premium, beauty, premium, makeup, premium, nai...</td>\n",
       "      <td>opi</td>\n",
       "      <td>OPI Infinite Shine, Nail Lacquer Nail Polish, ...</td>\n",
       "      <td>https://i5.walmartimages.com/asr/0e1f4c51-c1a4...</td>\n",
       "      <td></td>\n",
       "      <td>premium, beauty, premium, makeup, premium, nai...</td>\n",
       "    </tr>\n",
       "    <tr>\n",
       "      <th>1</th>\n",
       "      <td>95a9fe6f4810fcfc7ff244fd06784f11</td>\n",
       "      <td>076e5854a62dd283c253d6bae415af1f</td>\n",
       "      <td>0.0</td>\n",
       "      <td>0.0</td>\n",
       "      <td>beauty, hair, care, hair, color, auburn, hair,...</td>\n",
       "      <td>easy</td>\n",
       "      <td>Nice n Easy Permanent Color, 111 Natural Mediu...</td>\n",
       "      <td>https://i5.walmartimages.com/asr/9c8e42e4-13a5...</td>\n",
       "      <td>pack, 3, pack, 3, upc, 381519000201, beautiful...</td>\n",
       "      <td>beauty, hair, care, hair, color, auburn, hair,...</td>\n",
       "    </tr>\n",
       "    <tr>\n",
       "      <th>2</th>\n",
       "      <td>8d4d0330178d3ed181b15a4102b287f2</td>\n",
       "      <td>8a4fe5d9c7a6ed26cc44d785a454b124</td>\n",
       "      <td>4.5</td>\n",
       "      <td>29221.0</td>\n",
       "      <td>beauty, hair, care, hair, color, permanent, ha...</td>\n",
       "      <td>clairol</td>\n",
       "      <td>Clairol Nice N Easy Permanent Color 7/106A Nat...</td>\n",
       "      <td>https://i5.walmartimages.com/asr/e3a601c2-6a2b...</td>\n",
       "      <td>clairol, nice, n, easy, permanent, color, give...</td>\n",
       "      <td>beauty, hair, care, hair, color, permanent, ha...</td>\n",
       "    </tr>\n",
       "    <tr>\n",
       "      <th>3</th>\n",
       "      <td>fddc4df45b35efd886794b261f730c51</td>\n",
       "      <td>03b5fb878a33eadff8b033419eab9669</td>\n",
       "      <td>0.0</td>\n",
       "      <td>0.0</td>\n",
       "      <td>beauty, makeup, lip</td>\n",
       "      <td>kokie, cosmetics</td>\n",
       "      <td>Kokie Professional Matte Lipstick, Hot Berry, ...</td>\n",
       "      <td>https://i5.walmartimages.com/asr/25b4b467-bc61...</td>\n",
       "      <td>calling, matte, lip, lovers, indulge, rich, cr...</td>\n",
       "      <td>beauty, makeup, lip, kokie, cosmetics, calling...</td>\n",
       "    </tr>\n",
       "    <tr>\n",
       "      <th>4</th>\n",
       "      <td>0990cf89a59ca6a0460349a3e4f51d42</td>\n",
       "      <td>ce3d761e57d6ccad80619297b5b1bcbc</td>\n",
       "      <td>0.0</td>\n",
       "      <td>131.0</td>\n",
       "      <td>seasonal, stock, essentials, personal, care, s...</td>\n",
       "      <td>gillette</td>\n",
       "      <td>Gillette TRAC II Plus Razor Blade Refills, Fit...</td>\n",
       "      <td>https://i5.walmartimages.com/asr/1a2ebb06-cd01...</td>\n",
       "      <td>1971, gillette, introduced, trac, ii, razor, s...</td>\n",
       "      <td>seasonal, stock, essentials, personal, care, s...</td>\n",
       "    </tr>\n",
       "    <tr>\n",
       "      <th>...</th>\n",
       "      <td>...</td>\n",
       "      <td>...</td>\n",
       "      <td>...</td>\n",
       "      <td>...</td>\n",
       "      <td>...</td>\n",
       "      <td>...</td>\n",
       "      <td>...</td>\n",
       "      <td>...</td>\n",
       "      <td>...</td>\n",
       "      <td>...</td>\n",
       "    </tr>\n",
       "    <tr>\n",
       "      <th>4995</th>\n",
       "      <td>2771f0606e9638de508741f52029d51c</td>\n",
       "      <td>ad208aa8da338e84dfcf13efd49e8a75</td>\n",
       "      <td>4.5</td>\n",
       "      <td>2.0</td>\n",
       "      <td>household, essentials, air, fresheners, spray,...</td>\n",
       "      <td>eclectic, lady</td>\n",
       "      <td>Garden Mint Room Spray (Double Strength), 4 ou...</td>\n",
       "      <td>https://i5.walmartimages.com/asr/0e0416ae-6b70...</td>\n",
       "      <td>garden, mint, lovely, blend, spearmint, lettuc...</td>\n",
       "      <td>household, essentials, air, fresheners, spray,...</td>\n",
       "    </tr>\n",
       "    <tr>\n",
       "      <th>4996</th>\n",
       "      <td>0f218eb3ac736975ccfdde987baa4b83</td>\n",
       "      <td>1be8241fd6249f7ee007b06afd7ff45d</td>\n",
       "      <td>3.9</td>\n",
       "      <td>7484.0</td>\n",
       "      <td>beauty, hair, care, hair, color, permanent, ha...</td>\n",
       "      <td>garnier</td>\n",
       "      <td>Garnier Nutrisse Nourishing Hair Color Creme (...</td>\n",
       "      <td>https://i5.walmartimages.com/asr/24d7a837-51f8...</td>\n",
       "      <td>garnier, nutrisse, nourishing, hair, color, cr...</td>\n",
       "      <td>beauty, hair, care, hair, color, permanent, ha...</td>\n",
       "    </tr>\n",
       "    <tr>\n",
       "      <th>4997</th>\n",
       "      <td>34d1aa70845416c3df059a088aaf18dc</td>\n",
       "      <td>96ed378fb9466b11abde8f9baea58844</td>\n",
       "      <td>0.0</td>\n",
       "      <td>4.0</td>\n",
       "      <td>beauty, makeup, nails</td>\n",
       "      <td>stoneway</td>\n",
       "      <td>Nail File Electric Drill, 6 in 1 Professional ...</td>\n",
       "      <td>https://i5.walmartimages.com/asr/d6202179-2c93...</td>\n",
       "      <td>multifunctional, nail, drill, kit, come, 6, di...</td>\n",
       "      <td>beauty, makeup, nails, stoneway, multifunction...</td>\n",
       "    </tr>\n",
       "    <tr>\n",
       "      <th>4998</th>\n",
       "      <td>ff9cfa22550bf036e2487a9100d927f1</td>\n",
       "      <td>f7b05869f3ee7fe22864ea58cbb006d1</td>\n",
       "      <td>0.0</td>\n",
       "      <td>0.0</td>\n",
       "      <td>premium, beauty, premium, bath, body, premium,...</td>\n",
       "      <td>creed</td>\n",
       "      <td>Creed Love In Black Hair And Body Wash 6.8oz/2...</td>\n",
       "      <td>https://i5.walmartimages.com/asr/3dc99239-66d2...</td>\n",
       "      <td></td>\n",
       "      <td>premium, beauty, premium, bath, body, premium,...</td>\n",
       "    </tr>\n",
       "    <tr>\n",
       "      <th>4999</th>\n",
       "      <td>0de862f8c1c4f23b6c4cfe59fd574b59</td>\n",
       "      <td>1c9e4943fd915f7b016cdc593e607e02</td>\n",
       "      <td>0.0</td>\n",
       "      <td>438.0</td>\n",
       "      <td>beauty, makeup, face, makeup, face, makeup, br...</td>\n",
       "      <td>covergirl</td>\n",
       "      <td>Foundation</td>\n",
       "      <td>https://i5.walmartimages.com/asr/a76122fd-322a...</td>\n",
       "      <td>mousse, foundation, gives, smooth, clean, natu...</td>\n",
       "      <td>beauty, makeup, face, makeup, face, makeup, br...</td>\n",
       "    </tr>\n",
       "  </tbody>\n",
       "</table>\n",
       "<p>5000 rows × 10 columns</p>\n",
       "</div>"
      ],
      "text/plain": [
       "                                    ID                            ProdID  \\\n",
       "0     1705736792d82aa2f2d3caf1c07c53f4  2e17bf4acecdece67fc00f07ad62c910   \n",
       "1     95a9fe6f4810fcfc7ff244fd06784f11  076e5854a62dd283c253d6bae415af1f   \n",
       "2     8d4d0330178d3ed181b15a4102b287f2  8a4fe5d9c7a6ed26cc44d785a454b124   \n",
       "3     fddc4df45b35efd886794b261f730c51  03b5fb878a33eadff8b033419eab9669   \n",
       "4     0990cf89a59ca6a0460349a3e4f51d42  ce3d761e57d6ccad80619297b5b1bcbc   \n",
       "...                                ...                               ...   \n",
       "4995  2771f0606e9638de508741f52029d51c  ad208aa8da338e84dfcf13efd49e8a75   \n",
       "4996  0f218eb3ac736975ccfdde987baa4b83  1be8241fd6249f7ee007b06afd7ff45d   \n",
       "4997  34d1aa70845416c3df059a088aaf18dc  96ed378fb9466b11abde8f9baea58844   \n",
       "4998  ff9cfa22550bf036e2487a9100d927f1  f7b05869f3ee7fe22864ea58cbb006d1   \n",
       "4999  0de862f8c1c4f23b6c4cfe59fd574b59  1c9e4943fd915f7b016cdc593e607e02   \n",
       "\n",
       "      Rating  ReviewCount                                           Category  \\\n",
       "0        0.0          0.0  premium, beauty, premium, makeup, premium, nai...   \n",
       "1        0.0          0.0  beauty, hair, care, hair, color, auburn, hair,...   \n",
       "2        4.5      29221.0  beauty, hair, care, hair, color, permanent, ha...   \n",
       "3        0.0          0.0                                beauty, makeup, lip   \n",
       "4        0.0        131.0  seasonal, stock, essentials, personal, care, s...   \n",
       "...      ...          ...                                                ...   \n",
       "4995     4.5          2.0  household, essentials, air, fresheners, spray,...   \n",
       "4996     3.9       7484.0  beauty, hair, care, hair, color, permanent, ha...   \n",
       "4997     0.0          4.0                              beauty, makeup, nails   \n",
       "4998     0.0          0.0  premium, beauty, premium, bath, body, premium,...   \n",
       "4999     0.0        438.0  beauty, makeup, face, makeup, face, makeup, br...   \n",
       "\n",
       "                 Brand                                               Name  \\\n",
       "0                  opi  OPI Infinite Shine, Nail Lacquer Nail Polish, ...   \n",
       "1                 easy  Nice n Easy Permanent Color, 111 Natural Mediu...   \n",
       "2              clairol  Clairol Nice N Easy Permanent Color 7/106A Nat...   \n",
       "3     kokie, cosmetics  Kokie Professional Matte Lipstick, Hot Berry, ...   \n",
       "4             gillette  Gillette TRAC II Plus Razor Blade Refills, Fit...   \n",
       "...                ...                                                ...   \n",
       "4995    eclectic, lady  Garden Mint Room Spray (Double Strength), 4 ou...   \n",
       "4996           garnier  Garnier Nutrisse Nourishing Hair Color Creme (...   \n",
       "4997          stoneway  Nail File Electric Drill, 6 in 1 Professional ...   \n",
       "4998             creed  Creed Love In Black Hair And Body Wash 6.8oz/2...   \n",
       "4999         covergirl                                         Foundation   \n",
       "\n",
       "                                               ImageURL  \\\n",
       "0     https://i5.walmartimages.com/asr/0e1f4c51-c1a4...   \n",
       "1     https://i5.walmartimages.com/asr/9c8e42e4-13a5...   \n",
       "2     https://i5.walmartimages.com/asr/e3a601c2-6a2b...   \n",
       "3     https://i5.walmartimages.com/asr/25b4b467-bc61...   \n",
       "4     https://i5.walmartimages.com/asr/1a2ebb06-cd01...   \n",
       "...                                                 ...   \n",
       "4995  https://i5.walmartimages.com/asr/0e0416ae-6b70...   \n",
       "4996  https://i5.walmartimages.com/asr/24d7a837-51f8...   \n",
       "4997  https://i5.walmartimages.com/asr/d6202179-2c93...   \n",
       "4998  https://i5.walmartimages.com/asr/3dc99239-66d2...   \n",
       "4999  https://i5.walmartimages.com/asr/a76122fd-322a...   \n",
       "\n",
       "                                            Description  \\\n",
       "0                                                         \n",
       "1     pack, 3, pack, 3, upc, 381519000201, beautiful...   \n",
       "2     clairol, nice, n, easy, permanent, color, give...   \n",
       "3     calling, matte, lip, lovers, indulge, rich, cr...   \n",
       "4     1971, gillette, introduced, trac, ii, razor, s...   \n",
       "...                                                 ...   \n",
       "4995  garden, mint, lovely, blend, spearmint, lettuc...   \n",
       "4996  garnier, nutrisse, nourishing, hair, color, cr...   \n",
       "4997  multifunctional, nail, drill, kit, come, 6, di...   \n",
       "4998                                                      \n",
       "4999  mousse, foundation, gives, smooth, clean, natu...   \n",
       "\n",
       "                                                   Tags  \n",
       "0     premium, beauty, premium, makeup, premium, nai...  \n",
       "1     beauty, hair, care, hair, color, auburn, hair,...  \n",
       "2     beauty, hair, care, hair, color, permanent, ha...  \n",
       "3     beauty, makeup, lip, kokie, cosmetics, calling...  \n",
       "4     seasonal, stock, essentials, personal, care, s...  \n",
       "...                                                 ...  \n",
       "4995  household, essentials, air, fresheners, spray,...  \n",
       "4996  beauty, hair, care, hair, color, permanent, ha...  \n",
       "4997  beauty, makeup, nails, stoneway, multifunction...  \n",
       "4998  premium, beauty, premium, bath, body, premium,...  \n",
       "4999  beauty, makeup, face, makeup, face, makeup, br...  \n",
       "\n",
       "[5000 rows x 10 columns]"
      ]
     },
     "execution_count": 17,
     "metadata": {},
     "output_type": "execute_result"
    }
   ],
   "source": [
    "data"
   ]
  },
  {
   "cell_type": "code",
   "execution_count": 18,
   "id": "e34adfab",
   "metadata": {},
   "outputs": [],
   "source": [
    "data.to_csv('whole_data.csv', index=False)\n"
   ]
  },
  {
   "cell_type": "markdown",
   "id": "50fb0182",
   "metadata": {},
   "source": [
    "# Content based filtering\n"
   ]
  },
  {
   "cell_type": "code",
   "execution_count": 25,
   "id": "cb15963d",
   "metadata": {},
   "outputs": [],
   "source": [
    "import pandas as pd\n",
    "from sklearn.feature_extraction.text import TfidfVectorizer\n",
    "from sklearn.metrics.pairwise import cosine_similarity"
   ]
  },
  {
   "cell_type": "code",
   "execution_count": 28,
   "id": "a1d74335",
   "metadata": {},
   "outputs": [],
   "source": [
    "# Fill NaNs in all relevant columns\n",
    "data['Tags'] = data['Tags'].fillna('')\n",
    "data['Description'] = data['Description'].fillna('')\n",
    "data['Brand'] = data['Brand'].fillna('')"
   ]
  },
  {
   "cell_type": "code",
   "execution_count": 29,
   "id": "512d3cd9",
   "metadata": {},
   "outputs": [],
   "source": [
    "# Combine features for better context\n",
    "data['combined_features'] = data['Tags'] + ' ' + data['Description'] + ' ' + data['Brand'].astype(str)"
   ]
  },
  {
   "cell_type": "code",
   "execution_count": 64,
   "id": "c2da47a1",
   "metadata": {},
   "outputs": [],
   "source": [
    "from sklearn.feature_extraction.text import TfidfVectorizer\n",
    "import pandas as pd\n",
    "\n",
    "# TF-IDF vectorizer\n",
    "vectorizer = TfidfVectorizer(max_features=1000)\n",
    "tfidf_matrix = vectorizer.fit_transform(data['Description'].fillna(\"\"))\n",
    "\n",
    "# Convert to DataFrame\n",
    "tfidf_df = pd.DataFrame(tfidf_matrix.toarray())\n",
    "\n",
    "# Add ProdID as a separate column\n",
    "tfidf_df['ProdID'] = df['ProdID'].values\n",
    "\n",
    "# Save properly\n",
    "tfidf_df.to_csv('data/content_features.csv', index=False)\n"
   ]
  },
  {
   "cell_type": "code",
   "execution_count": 30,
   "id": "e6208755",
   "metadata": {},
   "outputs": [],
   "source": [
    "# TF-IDF Vectorizer\n",
    "vectorizer = TfidfVectorizer(stop_words='english')\n",
    "tfidf_matrix = vectorizer.fit_transform(data['combined_features'])"
   ]
  },
  {
   "cell_type": "code",
   "execution_count": null,
   "id": "6ad32efa",
   "metadata": {},
   "outputs": [],
   "source": []
  },
  {
   "cell_type": "code",
   "execution_count": 31,
   "id": "44c92405",
   "metadata": {},
   "outputs": [],
   "source": [
    "# Compute similarity matrix\n",
    "cosine_sim = cosine_similarity(tfidf_matrix, tfidf_matrix)"
   ]
  },
  {
   "cell_type": "code",
   "execution_count": 38,
   "id": "6ff2c87c",
   "metadata": {},
   "outputs": [],
   "source": [
    "# Recommendation function\n",
    "def get_content_recommendations(product_id, top_n=5):\n",
    "    idx = data[data['ProdID'] == product_id].index\n",
    "    if len(idx) == 0:\n",
    "        return \"Product ID not found 😢\"\n",
    "    idx = idx[0]\n",
    "    \n",
    "    sim_scores = list(enumerate(cosine_sim[idx]))\n",
    "    sim_scores = sorted(sim_scores, key=lambda x: x[1], reverse=True)\n",
    "    sim_scores = sim_scores[1:top_n+1]  # Skip the first (same product)\n",
    "\n",
    "    product_indices = [i[0] for i in sim_scores]\n",
    "    return data.iloc[product_indices][['ProdID', 'Name', 'Brand']]"
   ]
  },
  {
   "cell_type": "code",
   "execution_count": 39,
   "id": "19294520",
   "metadata": {},
   "outputs": [
    {
     "data": {
      "text/html": [
       "<div>\n",
       "<style scoped>\n",
       "    .dataframe tbody tr th:only-of-type {\n",
       "        vertical-align: middle;\n",
       "    }\n",
       "\n",
       "    .dataframe tbody tr th {\n",
       "        vertical-align: top;\n",
       "    }\n",
       "\n",
       "    .dataframe thead th {\n",
       "        text-align: right;\n",
       "    }\n",
       "</style>\n",
       "<table border=\"1\" class=\"dataframe\">\n",
       "  <thead>\n",
       "    <tr style=\"text-align: right;\">\n",
       "      <th></th>\n",
       "      <th>ProdID</th>\n",
       "      <th>Name</th>\n",
       "      <th>Brand</th>\n",
       "    </tr>\n",
       "  </thead>\n",
       "  <tbody>\n",
       "    <tr>\n",
       "      <th>156</th>\n",
       "      <td>ef58f2d68cfb30f4f72847441706f014</td>\n",
       "      <td>OPI Nail Lacquer Polish .5oz/15mL - This Gown ...</td>\n",
       "      <td>opi</td>\n",
       "    </tr>\n",
       "    <tr>\n",
       "      <th>184</th>\n",
       "      <td>2b3c8a5059cdefc921a9d85443beb4e2</td>\n",
       "      <td>OPI Nail Gel Polish GelColor .5oz/15mL 3 CT Co...</td>\n",
       "      <td>opi</td>\n",
       "    </tr>\n",
       "    <tr>\n",
       "      <th>205</th>\n",
       "      <td>fe7a2fff6ced03701471f9f5db2ee22b</td>\n",
       "      <td>OPI Nail Lacquer - Dont Bossa Nova Me Around -...</td>\n",
       "      <td>opi</td>\n",
       "    </tr>\n",
       "    <tr>\n",
       "      <th>237</th>\n",
       "      <td>ee4103d60073a9e63134f87806504ea6</td>\n",
       "      <td>OPI Infinite Shine 2 Polish - ISL P33 - Alpaca...</td>\n",
       "      <td>opi</td>\n",
       "    </tr>\n",
       "    <tr>\n",
       "      <th>325</th>\n",
       "      <td>c4eedc9254ec8c73cebcd7a67fd0cdc3</td>\n",
       "      <td>OPI Gel Polish Fall 2019 Scotland Collection G...</td>\n",
       "      <td>opi</td>\n",
       "    </tr>\n",
       "  </tbody>\n",
       "</table>\n",
       "</div>"
      ],
      "text/plain": [
       "                               ProdID  \\\n",
       "156  ef58f2d68cfb30f4f72847441706f014   \n",
       "184  2b3c8a5059cdefc921a9d85443beb4e2   \n",
       "205  fe7a2fff6ced03701471f9f5db2ee22b   \n",
       "237  ee4103d60073a9e63134f87806504ea6   \n",
       "325  c4eedc9254ec8c73cebcd7a67fd0cdc3   \n",
       "\n",
       "                                                  Name Brand  \n",
       "156  OPI Nail Lacquer Polish .5oz/15mL - This Gown ...   opi  \n",
       "184  OPI Nail Gel Polish GelColor .5oz/15mL 3 CT Co...   opi  \n",
       "205  OPI Nail Lacquer - Dont Bossa Nova Me Around -...   opi  \n",
       "237  OPI Infinite Shine 2 Polish - ISL P33 - Alpaca...   opi  \n",
       "325  OPI Gel Polish Fall 2019 Scotland Collection G...   opi  "
      ]
     },
     "execution_count": 39,
     "metadata": {},
     "output_type": "execute_result"
    }
   ],
   "source": [
    "get_content_recommendations(\"2e17bf4acecdece67fc00f07ad62c910\")"
   ]
  },
  {
   "cell_type": "markdown",
   "id": "a6bda0c1",
   "metadata": {},
   "source": [
    "# Collaborative Filtering"
   ]
  },
  {
   "cell_type": "code",
   "execution_count": 43,
   "id": "6a1e6756",
   "metadata": {},
   "outputs": [],
   "source": [
    "from sklearn.metrics.pairwise import cosine_similarity\n",
    "import random"
   ]
  },
  {
   "cell_type": "code",
   "execution_count": 44,
   "id": "1958545e",
   "metadata": {},
   "outputs": [
    {
     "name": "stdout",
     "output_type": "stream",
     "text": [
      "🎉 ratings.csv saved successfully!\n"
     ]
    }
   ],
   "source": [
    "# Simulate user IDs if not available\n",
    "num_users = 50  # or however many you'd like to simulate\n",
    "user_ids = [f\"user_{i}\" for i in range(num_users)]\n",
    "\n",
    "ratings_data = []\n",
    "\n",
    "for user in user_ids:\n",
    "    for idx, row in data.iterrows():\n",
    "        prod_id = row['ProdID']\n",
    "        rating = row['Rating']\n",
    "\n",
    "        # If rating is 0 or missing, replace with random float between 2.5 and 5.0\n",
    "        if pd.isna(rating) or rating == 0:\n",
    "            rating = round(random.uniform(2.5, 5.0), 1)\n",
    "\n",
    "        ratings_data.append([user, prod_id, rating])\n",
    "\n",
    "# Create DataFrame\n",
    "ratings_df = pd.DataFrame(ratings_data, columns=[\"UserID\", \"ProdID\", \"Rating\"])\n",
    "\n",
    "# Save to CSV\n",
    "ratings_df.to_csv(\"data/ratings.csv\", index=False)\n",
    "print(\"🎉 ratings.csv saved successfully!\")\n"
   ]
  },
  {
   "cell_type": "code",
   "execution_count": 48,
   "id": "18a31fd7",
   "metadata": {},
   "outputs": [],
   "source": [
    "# Simulate user-item interaction matrix\n",
    "# Example: 5 users x n products (random interactions)\n",
    "user_item_matrix = pd.DataFrame(np.random.randint(0, 2, size=(5, len(data))), \n",
    "                                columns=data['ProdID'].values, \n",
    "                                index=[f'User{i}' for i in range(1, 6)])"
   ]
  },
  {
   "cell_type": "code",
   "execution_count": 49,
   "id": "d724dd8c",
   "metadata": {},
   "outputs": [],
   "source": [
    "# Transpose for item-item similarity\n",
    "item_sim_matrix = cosine_similarity(user_item_matrix.T)\n",
    "item_sim_df = pd.DataFrame(item_sim_matrix, index=user_item_matrix.columns, columns=user_item_matrix.columns)\n"
   ]
  },
  {
   "cell_type": "code",
   "execution_count": 53,
   "id": "ef97f0ff",
   "metadata": {},
   "outputs": [],
   "source": [
    "from sklearn.metrics.pairwise import cosine_similarity\n",
    "import pandas as pd\n",
    "\n",
    "def collaborative_filtering_recommendations(train_data, target_user_id, top_n=10):\n",
    "    # Step 1: Create the user-item matrix\n",
    "    user_item_matrix = train_data.pivot_table(index='ID', columns='ProdID', values='Rating', aggfunc='mean').fillna(0)\n",
    "\n",
    "    # ✅ Step 2: Check if target user exists\n",
    "    if target_user_id not in user_item_matrix.index:\n",
    "        print(f\"User ID {target_user_id} not found in data.\")\n",
    "        print(\"Available user IDs:\", list(user_item_matrix.index))\n",
    "        return pd.DataFrame()  # Return empty DataFrame\n",
    "\n",
    "    # Step 3: Calculate cosine similarity between users\n",
    "    user_similarity = cosine_similarity(user_item_matrix)\n",
    "\n",
    "    # Step 4: Get index of the target user\n",
    "    target_user_index = user_item_matrix.index.get_loc(target_user_id)\n",
    "\n",
    "    # Step 5: Get similarity scores for the target user\n",
    "    user_similarities = user_similarity[target_user_index]\n",
    "\n",
    "    # Step 6: Sort similar users (excluding the target user themself)\n",
    "    similar_users_indices = user_similarities.argsort()[::-1][1:]\n",
    "\n",
    "    # Step 7: Generate recommendations from similar users\n",
    "    recommended_items = []\n",
    "\n",
    "    for user_index in similar_users_indices:\n",
    "        rated_by_similar_user = user_item_matrix.iloc[user_index]\n",
    "        not_rated_by_target_user = (rated_by_similar_user > 0) & (user_item_matrix.iloc[target_user_index] == 0)\n",
    "\n",
    "        recommended_items.extend(user_item_matrix.columns[not_rated_by_target_user][:top_n])\n",
    "\n",
    "        if len(recommended_items) >= top_n:\n",
    "            break\n",
    "\n",
    "    # Step 8: Fetch item details for recommendations\n",
    "    recommended_items_details = train_data[train_data['ProdID'].isin(recommended_items)][['Name', 'ReviewCount', 'Brand', 'ImageURL']]\n",
    "\n",
    "    return recommended_items_details.drop_duplicates().head(top_n)\n"
   ]
  },
  {
   "cell_type": "code",
   "execution_count": 55,
   "id": "673e22f2",
   "metadata": {},
   "outputs": [
    {
     "data": {
      "text/html": [
       "<div>\n",
       "<style scoped>\n",
       "    .dataframe tbody tr th:only-of-type {\n",
       "        vertical-align: middle;\n",
       "    }\n",
       "\n",
       "    .dataframe tbody tr th {\n",
       "        vertical-align: top;\n",
       "    }\n",
       "\n",
       "    .dataframe thead th {\n",
       "        text-align: right;\n",
       "    }\n",
       "</style>\n",
       "<table border=\"1\" class=\"dataframe\">\n",
       "  <thead>\n",
       "    <tr style=\"text-align: right;\">\n",
       "      <th></th>\n",
       "      <th>Name</th>\n",
       "      <th>ReviewCount</th>\n",
       "      <th>Brand</th>\n",
       "      <th>ImageURL</th>\n",
       "    </tr>\n",
       "  </thead>\n",
       "  <tbody>\n",
       "    <tr>\n",
       "      <th>332</th>\n",
       "      <td>Hard Candy Single &amp; Loving it Eye Shadow, Brn ...</td>\n",
       "      <td>6.0</td>\n",
       "      <td>hard, candy</td>\n",
       "      <td>https://i5.walmartimages.com/asr/08146799-9538...</td>\n",
       "    </tr>\n",
       "    <tr>\n",
       "      <th>1667</th>\n",
       "      <td>e.l.f. Day to Night Lipstick Duo, Need It Nudes</td>\n",
       "      <td>271.0</td>\n",
       "      <td>cosmetics</td>\n",
       "      <td>https://i5.walmartimages.com/asr/9c17d9b0-35da...</td>\n",
       "    </tr>\n",
       "    <tr>\n",
       "      <th>2140</th>\n",
       "      <td>V76 by Vaughn Brightening Conditioner For Silv...</td>\n",
       "      <td>10.0</td>\n",
       "      <td>v76, vaughn</td>\n",
       "      <td>https://i5.walmartimages.com/asr/611ac2d0-39ef...</td>\n",
       "    </tr>\n",
       "    <tr>\n",
       "      <th>2292</th>\n",
       "      <td>Softsoap Moisturizing Body Wash, Luminous Oils...</td>\n",
       "      <td>448.0</td>\n",
       "      <td>softsoap</td>\n",
       "      <td>https://i5.walmartimages.com/asr/a1d1536f-15d3...</td>\n",
       "    </tr>\n",
       "    <tr>\n",
       "      <th>4202</th>\n",
       "      <td>Redken-Diamond Oil Glow Dry Detangling Conditi...</td>\n",
       "      <td>334.0</td>\n",
       "      <td>redken</td>\n",
       "      <td>https://i5.walmartimages.com/asr/f200009c-1f8f...</td>\n",
       "    </tr>\n",
       "  </tbody>\n",
       "</table>\n",
       "</div>"
      ],
      "text/plain": [
       "                                                   Name  ReviewCount  \\\n",
       "332   Hard Candy Single & Loving it Eye Shadow, Brn ...          6.0   \n",
       "1667    e.l.f. Day to Night Lipstick Duo, Need It Nudes        271.0   \n",
       "2140  V76 by Vaughn Brightening Conditioner For Silv...         10.0   \n",
       "2292  Softsoap Moisturizing Body Wash, Luminous Oils...        448.0   \n",
       "4202  Redken-Diamond Oil Glow Dry Detangling Conditi...        334.0   \n",
       "\n",
       "            Brand                                           ImageURL  \n",
       "332   hard, candy  https://i5.walmartimages.com/asr/08146799-9538...  \n",
       "1667    cosmetics  https://i5.walmartimages.com/asr/9c17d9b0-35da...  \n",
       "2140  v76, vaughn  https://i5.walmartimages.com/asr/611ac2d0-39ef...  \n",
       "2292     softsoap  https://i5.walmartimages.com/asr/a1d1536f-15d3...  \n",
       "4202       redken  https://i5.walmartimages.com/asr/f200009c-1f8f...  "
      ]
     },
     "metadata": {},
     "output_type": "display_data"
    }
   ],
   "source": [
    "# Example usage\n",
    "target_user_id = \"0016a804b91dc7940315e093673d0c76\"\n",
    "top_n = 5\n",
    "recommendations = collaborative_filtering_recommendations(data, target_user_id, top_n)\n",
    "display(recommendations)\n"
   ]
  },
  {
   "cell_type": "code",
   "execution_count": 77,
   "id": "7f105528",
   "metadata": {},
   "outputs": [
    {
     "name": "stdout",
     "output_type": "stream",
     "text": [
      "Index([2.0, 76.0, 8.0, 3.0, 3.0], dtype='float64')\n",
      "<class 'numpy.float64'>\n"
     ]
    }
   ],
   "source": []
  }
 ],
 "metadata": {
  "kernelspec": {
   "display_name": "Python 3 (ipykernel)",
   "language": "python",
   "name": "python3"
  },
  "language_info": {
   "codemirror_mode": {
    "name": "ipython",
    "version": 3
   },
   "file_extension": ".py",
   "mimetype": "text/x-python",
   "name": "python",
   "nbconvert_exporter": "python",
   "pygments_lexer": "ipython3",
   "version": "3.11.4"
  }
 },
 "nbformat": 4,
 "nbformat_minor": 5
}
